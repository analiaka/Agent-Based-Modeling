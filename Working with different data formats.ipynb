{
 "cells": [
  {
   "cell_type": "code",
   "execution_count": null,
   "id": "48cbd89d-5178-48ff-9ee2-8e3cdfefdcae",
   "metadata": {},
   "outputs": [],
   "source": [
    "import pandas as pd\n",
    "import matplotlib.pyplot as plt\n",
    "import seaborn as sns\n",
    "import os"
   ]
  },
  {
   "cell_type": "code",
   "execution_count": null,
   "id": "973d8e1b-0090-48dc-8dcf-4098345f90ad",
   "metadata": {},
   "outputs": [],
   "source": [
    "# Set working directory\n",
    "# Set the working directory to the path where your files are located\n",
    "os.chdir('path_to_your_data')"
   ]
  },
  {
   "cell_type": "code",
   "execution_count": null,
   "id": "e2cbe127-6d0b-40f1-82c5-4160f2adbe9e",
   "metadata": {},
   "outputs": [],
   "source": [
    "import pandas as pd\n",
    "\n",
    "# Load your dataset\n",
    "#data = pd.read_csv('Survey_Data.csv')\n",
    "\n",
    "# Read the CSV with specified encoding to avoid UnicodeDecodeError\n",
    "#data = pd.read_csv('your_file.csv', encoding='ISO-8859-1')\n",
    "\n",
    "data = pd.read_csv('path_to_your_data.csv', encoding='ISO-8859-1')"
   ]
  },
  {
   "cell_type": "markdown",
   "id": "4b1c3ee1-a598-4220-87a0-36e9f2c923b2",
   "metadata": {},
   "source": [
    "In survey data analysis, categorical variables often need to be transformed into numerical values before they can be used in statistical analyses or machine learning models. This transformation is particularly important when working with methods like Principal Component Analysis (PCA), which require numerical input.\n",
    "\n",
    "**Example: Transforming Irrigation Methods**\n",
    "In this step, we are transforming the categorical variable Irrigation method into a new numerical variable Irrigation Method Coded. The transformation is done using a predefined mapping dictionary, where each category or combination of categories is assigned a unique numeric code.\n",
    "\n",
    "Mapping Explanation:\n",
    "\n",
    "'CENTER-PIVOTS' is assigned the code 1.\n",
    "\n",
    "'DRIP' is assigned the code 2.\n",
    "\n",
    "'FURROW/FLOOD' is assigned the code 3.\n",
    "\n",
    "Combinations of methods like 'CENTER-PIVOTS, DRIP' are given unique codes (4, 5, 6, etc.) to account for cases where respondents use multiple methods."
   ]
  },
  {
   "cell_type": "code",
   "execution_count": null,
   "id": "b5927b8d-9ee9-4b89-9a57-e5b79f37b317",
   "metadata": {},
   "outputs": [],
   "source": [
    "# Transform categorical variables (example for Irrigation Method)\n",
    "irrigation_mapping = {\n",
    "    'CENTER-PIVOTS': 1,\n",
    "    'DRIP': 2,\n",
    "    'FURROW/FLOOD': 3,\n",
    "    'CENTER-PIVOTS, DRIP': 4,  \n",
    "    'CENTER-PIVOTS,FURROW/FLOOD': 5, \n",
    "    'DRIP,FURROW/FLOOD': 6, # Example for multiple methods\n",
    "}\n",
    "data['Irrigation Method Coded'] = data['Irrigation method'].map(irrigation_mapping) "
   ]
  },
  {
   "cell_type": "markdown",
   "id": "4aea27ac-4630-4ff9-bcb8-e2e8d92bf376",
   "metadata": {},
   "source": [
    "**Below are additional examples to demonstrate the flexibility of transforming your data**\n",
    "\n",
    "You can use it as a guide on how to transform your own survey data"
   ]
  },
  {
   "cell_type": "code",
   "execution_count": null,
   "id": "7fa5bde0-6466-4e2e-938e-efaefe6a8302",
   "metadata": {},
   "outputs": [],
   "source": [
    "# Transform categorical variables (example for SOURCE OF WATER)\n",
    "water_source_mapping = {\n",
    "    'GROUNDWATER': 1,\n",
    "    'SURFACE': 2,\n",
    "    'DRYLAND': 3,\n",
    "    'SURFACE AND GROUND': 4,\n",
    "    'SURFACE AND GROUND, DRYLAND': 5,\n",
    "    # Example for multiple methods\n",
    "}\n",
    "data['Water Source Coded'] = data['Source of irrigation water'].map(water_source_mapping) "
   ]
  },
  {
   "cell_type": "code",
   "execution_count": null,
   "id": "298ceb14-9703-45fd-9281-9864bd1bbc01",
   "metadata": {},
   "outputs": [],
   "source": [
    "# Transform land ownership\n",
    "land_ownership_mapping = {\n",
    "    'Individual': 1,\n",
    "    'Rent': 2,\n",
    "    'Lease': 3,\n",
    "    'Co-own': 4,\n",
    "    'Individual, Rent': 5,  # Combined categories\n",
    "    'Individual, Lease': 6,\n",
    "    'Rent, Lease': 7,\n",
    "    'Individual, Co-own': 8,\n",
    "    'Individual, Co-own, Rent': 9,\n",
    "    \n",
    "}\n",
    "data['Land Ownership Coded'] = data['Describe land ownership'].map(land_ownership_mapping)"
   ]
  },
  {
   "cell_type": "code",
   "execution_count": null,
   "id": "3f157dfe-461a-42f0-bd39-eb36c5164c73",
   "metadata": {},
   "outputs": [],
   "source": [
    "# Transform years in operation\n",
    "years_op_mapping = {\n",
    "    '10-15Y': 1,\n",
    "    '15-20Y': 2,\n",
    "    '20-25Y': 3,\n",
    "    '25-30Y': 3,\n",
    "    '>30Y': 4,  \n",
    "}\n",
    "data['Years Op Coded'] = data['Years in operation'].map(years_op_mapping)"
   ]
  },
  {
   "cell_type": "code",
   "execution_count": null,
   "id": "4e82840e-eebd-41e7-9f3d-f04c242209e0",
   "metadata": {},
   "outputs": [],
   "source": [
    "# Transform farm size\n",
    "farm_size_mapping = {\n",
    "    '1-100': 1,\n",
    "    '100-500': 2,\n",
    "    '500-1000': 3,\n",
    "    '>1000': 4,\n",
    "   \n",
    "}\n",
    "data['Farm size Coded'] = data['Total acres of agricultural land owned/leased'].map(farm_size_mapping)"
   ]
  },
  {
   "cell_type": "code",
   "execution_count": null,
   "id": "83da598d-5d57-4622-a9ac-43dcae5d20cf",
   "metadata": {},
   "outputs": [],
   "source": [
    "\n",
    "# Transform future plans\n",
    "future_gen_mapping = {\n",
    "    'NO': 1,\n",
    "    'YES': 2, \n",
    "    'UNKNOWN': 0,\n",
    "}\n",
    "data['Future plans Coded'] = data['Pass to future generations'].map(future_gen_mapping)"
   ]
  },
  {
   "cell_type": "code",
   "execution_count": null,
   "id": "a98fefeb-364e-4af2-af9d-49f612e6a042",
   "metadata": {},
   "outputs": [],
   "source": [
    "# Transform membership in organizations\n",
    "member_org_mapping = {\n",
    "    'NO': 1,\n",
    "    'YES': 2,    \n",
    "}\n",
    "data['Membership Coded'] = data['Member farming organizations'].map(member_org_mapping)"
   ]
  },
  {
   "cell_type": "code",
   "execution_count": null,
   "id": "bc4520c8-0c28-4097-8a71-f8fe2f8c2322",
   "metadata": {},
   "outputs": [],
   "source": [
    "\n",
    "# Transform what determines decision on irrigation amount\n",
    "decision_irr_amount_mapping = {\n",
    "    'CONSULTANTS': 1,\n",
    "    'CROP CONDITIONS': 2,\n",
    "    'CROP CONDITIONS,CONSULTANTS': 3,\n",
    "    'CROP CONDITIONS,REGULATIONS': 4,\n",
    "    'SOIL MOISTURE,REGULATIONS': 5, \n",
    "    'SOIL MOISTURE,CROP CONDITIONS,OTHER': 6,\n",
    "    'SOIL MOISTURE,CROP CONDITIONS,CONSULTANTS': 7,\n",
    "    'SOIL MOISTURE,CROP CONDITIONS': 8,\n",
    "    'SOIL MOISTURE, OTHER': 9,\n",
    "    'SOIL MOISTURE': 10, \n",
    "    'SAME AMOUNT,CROP CONDITIONS': 11,\n",
    "    'SAME AMOUNT': 12,\n",
    "    'OTHER': 13, \n",
    "}\n",
    "data['dec_irr_amount Coded'] = data['Irrigation amount_new'].map(decision_irr_amount_mapping)"
   ]
  },
  {
   "cell_type": "markdown",
   "id": "e4c0c9d5-ede2-44ab-b1e2-e70177f90e4a",
   "metadata": {},
   "source": [
    "**Explanation for Transforming Likert Scale for Behavior Variables**\n",
    "What would you do if your survey includes Likert scale questions? These questions are often categorical and need to be transformed into numerical values for quantitative analysis. \n",
    "\n",
    "The step below involves converting the Likert scale responses for behavior-related questions into numerical codes that represent the strength or likelihood of the responses. \n",
    "\n",
    "This transformation ensures the data is ready for statistical analyses such as regression, clustering, or factor analysis.\n",
    "There are several examples below that you can tailor to suit your survey data"
   ]
  },
  {
   "cell_type": "code",
   "execution_count": null,
   "id": "48f463ef-5a88-4328-88a6-f61abcbab995",
   "metadata": {},
   "outputs": [],
   "source": [
    "# Transform Likert scale for behavior. \n",
    "behavior_mapping = {\n",
    "    'EXTREMELY UNLIKELY': 1,\n",
    "    'NOT LIKELY': 2,\n",
    "    'LIKELY': 3,\n",
    "    'EXTREMELY LIKELY': 4,   \n",
    "}\n",
    "data['Behavior1 Coded'] = data['Change your irrigation system'].map(behavior_mapping)\n",
    "data['Behavior2 Coded'] = data['Irrigate less frequently'].map(behavior_mapping)\n",
    "data['Behavior3 Coded'] = data['Change time of day for irrigation'].map(behavior_mapping)\n",
    "data['Behavior4 Coded'] = data['Switch to dryland farming'].map(behavior_mapping)\n",
    "data['Behavior5 Coded'] = data['Turn off end guns'].map(behavior_mapping)\n",
    "data['Behavior6 Coded'] = data['Plant less water intensive crops'].map(behavior_mapping)\n",
    "data['Behavior7 Coded'] = data['Change start of planting season'].map(behavior_mapping)\n",
    "data['Behavior8 Coded'] = data['Change start of planting season'].map(behavior_mapping)\n",
    "data['Behavior9 Coded'] = data['Stop farming'].map(behavior_mapping)\n",
    "data['Behavior10 Coded'] = data['Make no change'].map(behavior_mapping)"
   ]
  },
  {
   "cell_type": "code",
   "execution_count": null,
   "id": "ade27e0f-c4ad-44b4-aee6-47bcb511c3e1",
   "metadata": {},
   "outputs": [],
   "source": [
    "# Transform Likert scale for attitudes. This method can be used for several items\n",
    "likert_mapping = {\n",
    "    \n",
    "    'STRONGLY DISAGREE': 1,\n",
    "    'SOMEWHAT DISAGREE': 2,\n",
    "    'NEUTRAL': 3,\n",
    "    'SOMEWHAT AGREE': 4,\n",
    "    'STRONGLY AGREE': 5,\n",
    "    'DON’T KNOW': 0  # Handling \"Don't know\"\n",
    "}\n",
    "#data['Attitude1 Coded'] = data['Groundwater is a valuable resource to me and my farm'].map(likert_mapping) - \n",
    "data['Attitude1 Coded'] = data['Groundwater is a valuable resource to me and my farm'].map(likert_mapping)\n",
    "data['Attitude2 Coded'] = data['There is currently a groundwater shortage in my area'].map(likert_mapping)\n",
    "data['Attitude3 Coded'] = data['I have a role to play in conserving groundwater resources'].map(likert_mapping)\n",
    "data['Attitude4 Coded'] = data['Conserving groundwater resources can benefit the environment'].map(likert_mapping)\n",
    "data['Attitude5 Coded'] = data['Conserving groundwater resources can increase my farm income'].map(likert_mapping)\n",
    "data['Attitude6 Coded'] = data['I have a responsibility to report or stop any groundwater wasting actions that I encounter'].map(likert_mapping)\n",
    "data['Attitude7 Coded'] = data['The actions that I and my family take can make a difference in conserving groundwater resources'].map(likert_mapping)\n",
    "data['Attitude8 Coded'] = data['Conserving groundwater has more advantages than disadvantages for me and my farm'].map(likert_mapping)\n",
    "data['Attitude9 Coded'] = data['Conserving groundwater will help counteract the impact of a changing climate'].map(likert_mapping)\n",
    "data['SNorms1 Coded'] = data['My community is currently advocating for groundwater protection'].map(likert_mapping)\n",
    "data['SNorms2 Coded'] = data['I will save water and irrigate only when necessary because government agencies encourage me to do so'].map(likert_mapping)\n",
    "data['SNorms3 Coded'] = data['I will save water and irrigate only when necessary because my fellow farmers would approve'].map(likert_mapping)\n",
    "data['SNorms4 Coded'] = data['My family members would approve of me trying to save water'].map(likert_mapping)\n",
    "data['PBC1 Coded'] = data['I have sufficient knowledge about the state of groundwater on my farm'].map(likert_mapping)\n",
    "data['PBC2 Coded'] = data['I am familiar with groundwater conservation or sustainability practices'].map(likert_mapping)\n",
    "data['PBC3 Coded'] = data['My current irrigation system enables me to save or conserve water'].map(likert_mapping)\n",
    "data['PBC4 Coded'] = data['I have sufficient resources to adopt water saving techniques'].map(likert_mapping)\n",
    "data['PBC5 Coded'] = data['I have the freedom to choose whether to change my current irrigation system or not'].map(likert_mapping)\n",
    "data['Moral1 Coded'] = data['I would feel bad if I did not take steps to conserve groundwater'].map(likert_mapping)\n",
    "data['Moral2 Coded'] = data['When I implement groundwater conservation measures I feel like a better farmer'].map(likert_mapping)\n",
    "data['Moral3 Coded'] = data['I feel morally obligated to conserve groundwater'].map(likert_mapping)\n",
    "data['Moral4 Coded'] = data['Overuse of groundwater and natural resources is against my principles of environmental protection'].map(likert_mapping)\n",
    "data['RiskP1 Coded'] = data['Climate change is not a big issue because human ingenuity will enable us to adapt to changes'].map(likert_mapping)\n",
    "data['RiskP2 Coded'] = data['I believe that extreme weather events will happen more frequently in the future'].map(likert_mapping)\n",
    "data['RiskP3 Coded'] = data['My farm operation will likely be harmed by climate change'].map(likert_mapping)\n",
    "data['RiskP4 Coded'] = data['In the past 5 years I have noticed more unusual or variable weather on my farm'].map(likert_mapping)\n",
    "data['RiskP5 Coded'] = data['In the past 5 years I have noticed more unusual or variable weather across the state or region'].map(likert_mapping)\n",
    "data['RiskP6 Coded'] = data['Extreme weather events in recent years have affected my long-term farm management goals'].map(likert_mapping)\n",
    "data['Trust1 Coded'] = data['Government institutions are influenced by industry and private interests in their decisions about groundwater'].map(likert_mapping)\n",
    "data['Trust2 Coded'] = data['Government institutions have sufficient expertise to make decisions regarding groundwater use'].map(likert_mapping)\n",
    "data['Trust3 Coded'] = data['Government institutions provide sufficient information to the public when making decisions about groundwater conservation'].map(likert_mapping)"
   ]
  },
  {
   "cell_type": "code",
   "execution_count": null,
   "id": "c5499991-2a8d-4cb8-97dd-e0608145a24c",
   "metadata": {},
   "outputs": [],
   "source": [
    "# Transform Likert scale for climate change perception. This method will be used for several items\n",
    "likert1_mapping = {\n",
    "    'NOT CONCERNED': 1,\n",
    "    'SLIGHTLY CONCERNED': 2,\n",
    "    'CONCERNED': 3,\n",
    "    'VERY CONCERNED': 4,\n",
    "    'DON’T KNOW': 0  # Handling \"Don't know\"\n",
    "}\n",
    "data['CCPerception1 Coded'] = data['Increased flooding'].map(likert1_mapping)\n",
    "data['CCPerception2 Coded'] = data['Longer dry periods and drought'].map(likert1_mapping)\n",
    "data['CCPerception3 Coded'] = data['More frequent extreme rains'].map(likert1_mapping)\n",
    "data['CCPerception4 Coded'] = data['Increases in saturated soils and ponded water'].map(likert1_mapping)\n",
    "data['CCPerception5 Coded'] = data['Increased heat stress on crops'].map(likert1_mapping)\n",
    "data['CCPerception6 Coded'] = data['Increased soil erosion'].map(likert1_mapping)\n"
   ]
  },
  {
   "cell_type": "code",
   "execution_count": null,
   "id": "a9a80d47-cfa2-4c61-bfa6-73a54487a0fe",
   "metadata": {},
   "outputs": [],
   "source": [
    "# Once transformed, check the data\n",
    "print(data.head())"
   ]
  },
  {
   "cell_type": "code",
   "execution_count": null,
   "id": "ed40ce74-f104-4cc0-8331-403e5e883f45",
   "metadata": {},
   "outputs": [],
   "source": [
    "print(data.columns)"
   ]
  },
  {
   "cell_type": "code",
   "execution_count": null,
   "id": "4c9de8cd-fb75-4307-9d8b-d303dee54bd5",
   "metadata": {},
   "outputs": [],
   "source": [
    "# Save the coded data to a new CSV file\n",
    "data.to_csv('your_coded_data.csv', index=False)"
   ]
  },
  {
   "cell_type": "markdown",
   "id": "5ffed13a-d41f-4216-8df1-a35fc461d47e",
   "metadata": {},
   "source": [
    "PCA Analysis next. You should start by running tests to ensure your data is suited for PCA analysis"
   ]
  }
 ],
 "metadata": {
  "kernelspec": {
   "display_name": "Python 3 (ipykernel)",
   "language": "python",
   "name": "python3"
  },
  "language_info": {
   "codemirror_mode": {
    "name": "ipython",
    "version": 3
   },
   "file_extension": ".py",
   "mimetype": "text/x-python",
   "name": "python",
   "nbconvert_exporter": "python",
   "pygments_lexer": "ipython3",
   "version": "3.11.9"
  }
 },
 "nbformat": 4,
 "nbformat_minor": 5
}
